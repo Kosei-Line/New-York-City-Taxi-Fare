{
 "cells": [
  {
   "cell_type": "code",
   "execution_count": 1,
   "metadata": {},
   "outputs": [
    {
     "name": "stdout",
     "output_type": "stream",
     "text": [
      "['GCP-Coupons-Instructions.rtf', 'train.csv.zip', 'sample_submission.csv', 'test.csv', 'train.csv']\n"
     ]
    },
    {
     "name": "stderr",
     "output_type": "stream",
     "text": [
      "/opt/conda/lib/python3.6/site-packages/h5py/__init__.py:36: FutureWarning: Conversion of the second argument of issubdtype from `float` to `np.floating` is deprecated. In future, it will be treated as `np.float64 == np.dtype(float).type`.\n",
      "  from ._conv import register_converters as _register_converters\n"
     ]
    }
   ],
   "source": [
    "import numpy as np # linear algebra\n",
    "import pandas as pd # CSV file I/O (e.g. pd.read_csv)\n",
    "import os # reading the input files we have access to\n",
    "\n",
    "import matplotlib.pyplot as plt\n",
    "from scipy import stats\n",
    "from scipy.stats import norm\n",
    "import seaborn as sns\n",
    "import warnings\n",
    "\n",
    "import chainer\n",
    "import chainer.functions as F\n",
    "import chainer.links as L\n",
    "import math\n",
    "from chainer import cuda, training, reporter, Variable\n",
    "from chainer.training import trainer, extensions\n",
    "from chainer import datasets\n",
    "from chainer.dataset import convert\n",
    "from chainer.dataset import iterator as iterator_module\n",
    "from chainer import optimizer as optimizer_module\n",
    "from chainer import iterators\n",
    "from chainer import optimizers\n",
    "\n",
    "warnings.filterwarnings('ignore')\n",
    "%matplotlib inline\n",
    "\n",
    "device = 0\n",
    "\n",
    "print(os.listdir('./input'))\n"
   ]
  },
  {
   "cell_type": "code",
   "execution_count": 2,
   "metadata": {},
   "outputs": [
    {
     "data": {
      "text/plain": [
       "key                   object\n",
       "fare_amount          float64\n",
       "pickup_datetime       object\n",
       "pickup_longitude     float64\n",
       "pickup_latitude      float64\n",
       "dropoff_longitude    float64\n",
       "dropoff_latitude     float64\n",
       "passenger_count        int64\n",
       "dtype: object"
      ]
     },
     "execution_count": 2,
     "metadata": {},
     "output_type": "execute_result"
    }
   ],
   "source": [
    "train_df =  pd.read_csv('./input/train.csv', nrows = 10_000_000)\n",
    "train_df.dtypes"
   ]
  },
  {
   "cell_type": "code",
   "execution_count": 3,
   "metadata": {},
   "outputs": [],
   "source": [
    "# Given a dataframe, add two new features 'abs_diff_longitude' and\n",
    "# 'abs_diff_latitude' reprensenting the \"Manhattan vector\" from\n",
    "# the pickup location to the dropoff location.\n",
    "def add_travel_vector_features(df):\n",
    "    df['abs_diff_longitude'] = (df.dropoff_longitude - df.pickup_longitude).abs()\n",
    "    df['abs_diff_latitude'] = (df.dropoff_latitude - df.pickup_latitude).abs()\n",
    "    #df.pickup_datetime = pd.to_datetime(df.pickup_datetime).dt.timestamp()\n",
    "\n",
    "add_travel_vector_features(train_df)"
   ]
  },
  {
   "cell_type": "code",
   "execution_count": 4,
   "metadata": {},
   "outputs": [
    {
     "name": "stdout",
     "output_type": "stream",
     "text": [
      "key                    0\n",
      "fare_amount            0\n",
      "pickup_datetime        0\n",
      "pickup_longitude       0\n",
      "pickup_latitude        0\n",
      "dropoff_longitude     69\n",
      "dropoff_latitude      69\n",
      "passenger_count        0\n",
      "abs_diff_longitude    69\n",
      "abs_diff_latitude     69\n",
      "dtype: int64\n"
     ]
    }
   ],
   "source": [
    "print(train_df.isnull().sum())"
   ]
  },
  {
   "cell_type": "code",
   "execution_count": 5,
   "metadata": {},
   "outputs": [
    {
     "name": "stdout",
     "output_type": "stream",
     "text": [
      "Old size: 10000000\n",
      "New size: 9999931\n"
     ]
    }
   ],
   "source": [
    "print('Old size: %d' % len(train_df))\n",
    "train_df = train_df.dropna(how = 'any', axis = 'rows')\n",
    "print('New size: %d' % len(train_df))"
   ]
  },
  {
   "cell_type": "code",
   "execution_count": 6,
   "metadata": {},
   "outputs": [
    {
     "data": {
      "image/png": "[encoded data removed]",
      "text/plain": [
       "<matplotlib.figure.Figure at 0x7f515379f940>"
      ]
     },
     "metadata": {},
     "output_type": "display_data"
    }
   ],
   "source": [
    "%matplotlib inline\n",
    "plot = train_df.iloc[:2000].plot.scatter('abs_diff_longitude', 'abs_diff_latitude')"
   ]
  },
  {
   "cell_type": "code",
   "execution_count": 7,
   "metadata": {},
   "outputs": [
    {
     "name": "stdout",
     "output_type": "stream",
     "text": [
      "Old size: 9999931\n",
      "New size: 9979187\n"
     ]
    }
   ],
   "source": [
    "print('Old size: %d' % len(train_df))\n",
    "train_df = train_df[(train_df.abs_diff_longitude < 5.0) & (train_df.abs_diff_latitude < 5.0)]\n",
    "print('New size: %d' % len(train_df))"
   ]
  },
  {
   "cell_type": "code",
   "execution_count": 8,
   "metadata": {},
   "outputs": [
    {
     "name": "stdout",
     "output_type": "stream",
     "text": [
      "(9979187, 10)\n"
     ]
    }
   ],
   "source": [
    "print(train_df.shape)"
   ]
  },
  {
   "cell_type": "code",
   "execution_count": 9,
   "metadata": {},
   "outputs": [],
   "source": [
    "def get_input_matrix(df):\n",
    "    #df.pickup_datetime = int(pd.to_datetime(df.pickup_datetime).dt.strftime('%Y%m%d%H%M'))\n",
    "    \n",
    "    return np.column_stack((df.abs_diff_longitude, df.abs_diff_latitude, df.passenger_count)).astype(np.float32)\n",
    "\n",
    "def get_output_matrix(df):\n",
    "    return np.column_stack((df.fare_amount)).astype(np.float32).transpose((1, 0))\n",
    "\n",
    "train_x = get_input_matrix(train_df)\n",
    "train_t = get_output_matrix(train_df)\n",
    "\n",
    "test_df = pd.read_csv('./input/test.csv')\n",
    "add_travel_vector_features(test_df)\n",
    "test_x = get_input_matrix(test_df)\n",
    "#print(train_x.shape, train_t.shape, test_x.shape)\n",
    "thresh_hold = int(train_x.shape[0]*0.8)\n",
    "train = datasets.TupleDataset(train_x[:thresh_hold], train_t[:thresh_hold])\n",
    "valid = datasets.TupleDataset(train_x[thresh_hold:], train_t[thresh_hold:])"
   ]
  },
  {
   "cell_type": "code",
   "execution_count": 10,
   "metadata": {},
   "outputs": [
    {
     "name": "stdout",
     "output_type": "stream",
     "text": [
      "(9979187, 3) (9979187, 1) (9914, 3)\n"
     ]
    }
   ],
   "source": [
    "print(train_x.shape, train_t.shape, test_x.shape)"
   ]
  },
  {
   "cell_type": "code",
   "execution_count": 11,
   "metadata": {},
   "outputs": [],
   "source": [
    "class LinearBlock(chainer.Chain):\n",
    "\n",
    "    def __init__(self, inp=None, mid=256, drop=False, bn = False):\n",
    "        w = chainer.initializers.HeNormal()\n",
    "        super(LinearBlock, self).__init__()\n",
    "        with self.init_scope():\n",
    "            self.fc = L.Linear(inp, mid, initialW=w)\n",
    "            self.bnorm = L.BatchNormalization(mid)\n",
    "        self.drop = drop\n",
    "        self.bn = bn\n",
    "\n",
    "    def __call__(self, x):\n",
    "        h = self.fc(x)\n",
    "        if self.bn:\n",
    "            h = self.bnorm(h)\n",
    "        h = F.relu(h)\n",
    "        if self.drop:\n",
    "            h = F.dropout(h)\n",
    "        return h\n",
    "    \n",
    "class EnsembleNet(chainer.Chain):\n",
    "    def __init__(self, mid):\n",
    "        super(EnsembleNet, self).__init__()\n",
    "        w = chainer.initializers.HeNormal()\n",
    "        \n",
    "        with self.init_scope():\n",
    "            self.l1 = LinearBlock(mid = mid, bn = True)\n",
    "            self.l2 = LinearBlock(mid = mid*2, bn = True)\n",
    "            \n",
    "            self.last = L.Linear(None, 1, initialW=w)\n",
    "            \n",
    "    def __call__(self, x):\n",
    "        return self.forward(x)\n",
    "    \n",
    "    def forward(self, x):\n",
    "        h = self.last(self.l2(self.l1(x)))\n",
    "        #h = F.concat((h1, h2, h3, h4), axis = -1)\n",
    "        #h = h1\n",
    "        #h = F.mean(h, axis=-1, keepdims=True)\n",
    "        #h  = self.concat(F.relu(h))\n",
    "        return h\n",
    "    \n",
    "#     def predict(self, x):\n",
    "#         with chainer.using_config('train', False), chainer.using_config('enable_backprop', False):\n",
    "#             y_pred = F.mean(self.forward(x), axis=-1, keepdims=True)\n",
    "#         return y_pred\n",
    "            "
   ]
  },
  {
   "cell_type": "code",
   "execution_count": 12,
   "metadata": {},
   "outputs": [],
   "source": [
    "import chainer\n",
    "import numpy as np\n",
    "import six\n",
    "import chainer.functions as F\n",
    "import chainer.links as L\n",
    "from chainer import training, cuda, reporter\n",
    "from chainer.dataset import convert\n",
    "from chainer.dataset import iterator as iterator_module\n",
    "\n",
    "class EnsembleUpdater(training.StandardUpdater):\n",
    "    def __init__(self, iterator, net_dict, opt,\n",
    "        converter=convert.concat_examples, device=0):\n",
    "        if isinstance(iterator, iterator_module.Iterator):\n",
    "            iterator = {'main': iterator}\n",
    "        self._iterators = iterator\n",
    "        self.net_dict = net_dict\n",
    "        self._optimizers = opt\n",
    "        self.converter = converter\n",
    "        self.device = device\n",
    "        self.iteration = 0\n",
    "\n",
    "    def update_core(self):\n",
    "        #print(self.iteration)\n",
    "        iterator = self._iterators['main'].next()\n",
    "        #入力データ\n",
    "        input = self.converter(iterator, self.device)\n",
    "        xp = np if int(self.device) == -1 else cuda.cupy\n",
    "        x_batch = xp.array(input[0], dtype=np.float32) #入力データ\n",
    "        t_batch = xp.array(input[1], dtype=np.float32) #教師データ\n",
    "        #loss\n",
    "        loss_dic = {}\n",
    "        for i, net in enumerate(self.net_dict.values()):\n",
    "            loss = F.mean_squared_error(net(x_batch), t_batch)\n",
    "            loss_dic[str(i)] = loss\n",
    "            \n",
    "        #計算開始\n",
    "        for name, optimizer in six.iteritems(self._optimizers):\n",
    "            optimizer.target.cleargrads()\n",
    "            \n",
    "        for name, loss in six.iteritems(loss_dic):\n",
    "            loss.backward()\n",
    "\n",
    "        for name, optimizer in six.iteritems(self._optimizers):\n",
    "            optimizer.update()\n",
    "        report_dict = {}\n",
    "        for i, loss in enumerate(loss_dic.values()):\n",
    "            report_dict['main/loss'+str(i)] =  loss\n",
    "        reporter.report(report_dict)\n",
    "\n",
    "        \n",
    "import chainer\n",
    "import copy\n",
    "import numpy as np\n",
    "import chainer.functions as F\n",
    "import chainer.links as L\n",
    "from chainer import training, cuda, reporter\n",
    "from chainer.training import extensions\n",
    "from chainer.dataset import convert\n",
    "from chainer.dataset import iterator as iterator_module\n",
    "\n",
    "class  EnsembleEvaluator(extensions.Evaluator):\n",
    "    def __init__(self, iterator, net_dict,\n",
    "        converter=convert.concat_examples, device=0, eval_hook=None,\n",
    "        eval_func=None):\n",
    "        if isinstance(iterator, iterator_module.Iterator):\n",
    "            iterator = {'main': iterator}\n",
    "        self._iterators = iterator\n",
    "        self._targets = net_dict\n",
    "        self.converter = converter\n",
    "        self.device = device\n",
    "        self.eval_hook = eval_hook\n",
    "\n",
    "    def evaluate(self):\n",
    "        iterator = self._iterators['main']\n",
    "        #入力データ\n",
    "        xp = np if int(self.device) == -1 else cuda.cupy\n",
    "        it = copy.copy(iterator)\n",
    "        summary = reporter.DictSummary()\n",
    "        for batch in it:\n",
    "            observation = {}\n",
    "            with reporter.report_scope(observation):\n",
    "                input = self.converter(batch, self.device)\n",
    "                x_batch = xp.array(input[0], dtype=np.float32) #入力データ\n",
    "                t_batch = xp.array(input[1], dtype=np.float32) #教師データ\n",
    "                #loss\n",
    "                loss = 0\n",
    "                #計算開始\n",
    "                with chainer.using_config('train', False), chainer.using_config('enable_backprop', False):\n",
    "                    for i, net in enumerate(self._targets.values()):\n",
    "                        loss = loss + F.mean_squared_error(net(x_batch), t_batch)\n",
    "                    loss = loss/len(self._targets.values())\n",
    "                observation['val/main/loss'] = loss\n",
    "            summary.add(observation)\n",
    "        return summary.compute_mean()"
   ]
  },
  {
   "cell_type": "code",
   "execution_count": 13,
   "metadata": {},
   "outputs": [],
   "source": [
    "batch_size = 64\n",
    "train_iter = iterators.SerialIterator(train, batch_size)\n",
    "valid_iter  = iterators.SerialIterator(valid, batch_size, repeat=False, shuffle=False)\n",
    "test_iter = iterators.SerialIterator(test_x, batch_size, False, False)"
   ]
  },
  {
   "cell_type": "code",
   "execution_count": 14,
   "metadata": {},
   "outputs": [],
   "source": [
    "net1 = EnsembleNet(mid = 8)\n",
    "net2 = EnsembleNet(mid = 16)\n",
    "net3 = EnsembleNet(mid = 32)\n",
    "net4 = EnsembleNet(mid = 64)\n",
    "net_dict = {'0': net1, '1': net2, '2': net3, '3': net4}\n",
    "optimizer_dict= {}\n",
    "for i, net in enumerate(net_dict.values()):\n",
    "        if device >= 0:\n",
    "            net.to_gpu(device)\n",
    "        optimizer = optimizers.Adam(alpha=0.0002, beta1=0.9, beta2=0.999).setup(net)\n",
    "        optimizer.add_hook(chainer.optimizer.WeightDecay(0.0001))\n",
    "        optimizer_dict[str(i)] = optimizer"
   ]
  },
  {
   "cell_type": "code",
   "execution_count": 15,
   "metadata": {},
   "outputs": [],
   "source": [
    "updater = EnsembleUpdater(train_iter, net_dict, optimizer_dict, device=device)\n",
    "max_iteration = 10000\n",
    "trainer = training.Trainer(updater, (max_iteration, 'iteration'), out='results')\n",
    "trainer.extend(extensions.LogReport(trigger=(100, 'iteration')))\n",
    "print_report_list = []\n",
    "for i, net in enumerate(net_dict.values()):\n",
    "    trainer.extend(extensions.snapshot_object(net, filename='net'+str(i)+'_iteration-{.updater.iteration}'), trigger=(1000,'iteration'))\n",
    "    print_report_list.append('main/loss'+str(i))\n",
    "trainer.extend(EnsembleEvaluator(valid_iter, net_dict, device=device), name='val', trigger=(100,'iteration'))\n",
    "trainer.extend(extensions.PrintReport(['iteration', print_report_list[0], print_report_list[1], print_report_list[2], print_report_list[3],  'val/main/loss', 'elapsed_time']))\n",
    "trainer.extend(extensions.PlotReport([print_report_list[0], print_report_list[1], print_report_list[2], print_report_list[3], 'val/main/loss'], x_key='iteration', file_name='loss.png'))\n",
    "#trainer.extend(extensions.dump_graph(print_report_list[0], print_report_list[1], print_report_list[2], print_report_list[3],))"
   ]
  },
  {
   "cell_type": "code",
   "execution_count": null,
   "metadata": {},
   "outputs": [],
   "source": [
    "trainer.run()"
   ]
  },
  {
   "cell_type": "code",
   "execution_count": 17,
   "metadata": {},
   "outputs": [],
   "source": [
    "infer_net1 = EnsembleNet(mid = 8)\n",
    "infer_net2 = EnsembleNet(mid = 16)\n",
    "infer_net3 = EnsembleNet(mid = 32)\n",
    "infer_net4 = EnsembleNet(mid = 64)\n",
    "infer_net_dict = {'0': net1, '1': net2, '2': net3, '3': net4}\n",
    "from chainer import serializers\n",
    "for i, infer_net in enumerate(infer_net_dict.values()):\n",
    "    serializers.load_npz('results/'+'net'+str(i)+'_iteration-10000', infer_net, path='')\n",
    "    if device >= 0:\n",
    "        infer_net.to_gpu(0)"
   ]
  },
  {
   "cell_type": "code",
   "execution_count": 18,
   "metadata": {},
   "outputs": [],
   "source": [
    "t_x = test_x\n",
    "t_x = infer_net.xp.asarray(t_x)\n",
    "y_pred = 0\n",
    "with chainer.using_config('train', False), chainer.using_config('enable_backprop', False):\n",
    "    for i, infer_net in enumerate(infer_net_dict.values()):\n",
    "        y_pred = y_pred + infer_net(t_x).array\n",
    "    y = y_pred / len(infer_net_dict.values())"
   ]
  },
  {
   "cell_type": "code",
   "execution_count": 19,
   "metadata": {},
   "outputs": [],
   "source": [
    "y_pred = chainer.cuda.to_cpu(y)"
   ]
  },
  {
   "cell_type": "code",
   "execution_count": 24,
   "metadata": {},
   "outputs": [],
   "source": [
    "y_pred = y_pred.reshape(-1)\n",
    "submission = pd.DataFrame(\n",
    "    {'key': test_df.key, 'fare_amount': y_pred},\n",
    "    columns = ['key', 'fare_amount'])\n",
    "submission.to_csv('submission.csv', index = False)"
   ]
  },
  {
   "cell_type": "code",
   "execution_count": null,
   "metadata": {},
   "outputs": [],
   "source": []
  }
 ],
 "metadata": {
  "kernelspec": {
   "display_name": "Python 3",
   "language": "python",
   "name": "python3"
  },
  "language_info": {
   "codemirror_mode": {
    "name": "ipython",
    "version": 3
   },
   "file_extension": ".py",
   "mimetype": "text/x-python",
   "name": "python",
   "nbconvert_exporter": "python",
   "pygments_lexer": "ipython3",
   "version": "3.6.4"
  }
 },
 "nbformat": 4,
 "nbformat_minor": 2
}
